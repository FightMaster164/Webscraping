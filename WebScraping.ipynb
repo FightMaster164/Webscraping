{
 "cells": [
  {
   "cell_type": "code",
   "execution_count": 21,
   "metadata": {},
   "outputs": [
    {
     "ename": "NameError",
     "evalue": "name 'all_links' is not defined",
     "output_type": "error",
     "traceback": [
      "\u001b[1;31m---------------------------------------------------------------------------\u001b[0m",
      "\u001b[1;31mNameError\u001b[0m                                 Traceback (most recent call last)",
      "\u001b[1;32m<ipython-input-21-4375f806dfc7>\u001b[0m in \u001b[0;36m<module>\u001b[1;34m\u001b[0m\n\u001b[0;32m     14\u001b[0m \u001b[1;33m\u001b[0m\u001b[0m\n\u001b[0;32m     15\u001b[0m \u001b[1;31m#print (r.text)\u001b[0m\u001b[1;33m\u001b[0m\u001b[1;33m\u001b[0m\u001b[1;33m\u001b[0m\u001b[0m\n\u001b[1;32m---> 16\u001b[1;33m \u001b[0mall_links\u001b[0m\u001b[1;33m.\u001b[0m\u001b[0mappend\u001b[0m\u001b[1;33m(\u001b[0m\u001b[1;34m'https://www.olx.com.pk'\u001b[0m\u001b[1;33m)\u001b[0m\u001b[1;33m\u001b[0m\u001b[1;33m\u001b[0m\u001b[0m\n\u001b[0m\u001b[0;32m     17\u001b[0m \u001b[1;33m\u001b[0m\u001b[0m\n\u001b[0;32m     18\u001b[0m \u001b[1;32mif\u001b[0m \u001b[0mr\u001b[0m\u001b[1;33m.\u001b[0m\u001b[0mstatus_code\u001b[0m \u001b[1;33m==\u001b[0m \u001b[1;36m200\u001b[0m\u001b[1;33m:\u001b[0m\u001b[1;33m\u001b[0m\u001b[1;33m\u001b[0m\u001b[0m\n",
      "\u001b[1;31mNameError\u001b[0m: name 'all_links' is not defined"
     ]
    }
   ],
   "source": [
    "import requests\n",
    "\n",
    "apikey = \"3eb95fbfe1b22ac1bd0b4721ad2642f0\"\n",
    "\n",
    "url = \"https://ucr.fbi.gov/crime-in-the-u.s/2016/crime-in-the-u.s.-2016/topic-pages/tables/table-1\"\n",
    "\n",
    "\n",
    "payload = {'api_key': apikey, \n",
    "           'url': url, \n",
    "           'render' : 'true',\n",
    "           'session_number': '123'}\n",
    "\n",
    "r = requests.get('http://api.scraperapi.com', params=payload, timeout=60)\n",
    "\n",
    "#print (r.text)\n",
    "all_links.append('https://www.olx.com.pk')\n",
    "\n",
    "if r.status_code == 200:\n",
    "    html = r.text.strip()\n",
    "    soup = BeautifulSoup(html, 'lxml')\n",
    "    links = soup.select('.EIR5N > a')\n",
    "    print(links)\n",
    "\n",
    "for l in links:\n",
    "    all_links.append('https://www.olx.com.pk' + l['href'])\n",
    "\n",
    "idx = 0\n",
    "if len(all_links) > 0:    \n",
    "    #print(len(all_links))\n",
    "    \n",
    "    for link in all_links:\n",
    "        sleep(5)\n",
    "        payload = {'api_key': apikey, 'url': link, 'session_number': '123'}\n",
    "        if idx > 1:\n",
    "            break\n",
    "    \n",
    "        r = requests.get('http://api.scraperapi.com', params=payload, timeout=60)\n",
    "        if r.status_code == 200:\n",
    "            html = r.text.strip()\n",
    "            soup = BeautifulSoup(html, 'lxml')\n",
    "            price_section = soup.find('span', {'data-aut-id': 'itemPrice'})\n",
    "            print(price_section.text)\n",
    "            idx += 1\n",
    "\n"
   ]
  },
  {
   "cell_type": "code",
   "execution_count": null,
   "metadata": {},
   "outputs": [],
   "source": []
  },
  {
   "cell_type": "code",
   "execution_count": 2,
   "metadata": {},
   "outputs": [],
   "source": [
    "\n"
   ]
  },
  {
   "cell_type": "code",
   "execution_count": null,
   "metadata": {},
   "outputs": [],
   "source": [
    "from bs4 import BeautifulSoup\n",
    "import requests\n",
    "import pandas as pd\n",
    "\n",
    "url = \"https://ucr.fbi.gov/crime-in-the-u.s/2016/crime-in-the-u.s.-2016/topic-pages/tables/table-1\"\n",
    "r = requests.get(url)\n",
    "data = r.text\n",
    "\n",
    "soup = BeautifulSoup(data)\n",
    "\n",
    "table = soup.find_all('table')[0]\n",
    "rows = table.find_all('tr')[1:]\n",
    "print(rows[0])\n",
    "\n",
    "#Initialize a dictionary to store data\n",
    "data = {    \n",
    "    'Population' : [],\n",
    "    'Violentcrime' : []\n",
    "}\n",
    "\n",
    "for row in rows:\n",
    "    cols = row.find_all('td')\n",
    "    #print(cols[0].get_text())\n",
    "    data['Population'].append(cols[0].get_text())\n",
    "    data['Violentcrime'].append(cols[1].get_text())\n",
    "    print(data)\n",
    "    \n",
    "    \n",
    "fbidata = pd.DataFrame(data)\n",
    "print(fbidata)\n",
    "\n",
    "fbidata.to_csv(\"fbi_crime_data.csv\")"
   ]
  }
 ],
 "metadata": {
  "kernelspec": {
   "display_name": "Python 3",
   "language": "python",
   "name": "python3"
  },
  "language_info": {
   "codemirror_mode": {
    "name": "ipython",
    "version": 3
   },
   "file_extension": ".py",
   "mimetype": "text/x-python",
   "name": "python",
   "nbconvert_exporter": "python",
   "pygments_lexer": "ipython3",
   "version": "3.7.4"
  }
 },
 "nbformat": 4,
 "nbformat_minor": 2
}
